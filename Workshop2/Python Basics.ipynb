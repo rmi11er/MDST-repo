{
 "cells": [
  {
   "cell_type": "code",
   "execution_count": 1,
   "metadata": {},
   "outputs": [
    {
     "name": "stdout",
     "output_type": "stream",
     "text": [
      "something\n"
     ]
    }
   ],
   "source": [
    "print(\"something\") #printing a statement"
   ]
  },
  {
   "cell_type": "code",
   "execution_count": 5,
   "metadata": {},
   "outputs": [
    {
     "name": "stdout",
     "output_type": "stream",
     "text": [
      "7 0.98 7 string\n"
     ]
    }
   ],
   "source": [
    "a = 7\n",
    "b = 0.98\n",
    "c = \"string\"\n",
    "d = \"7\"\n",
    "print(d, b, a, c)"
   ]
  },
  {
   "cell_type": "code",
   "execution_count": 8,
   "metadata": {},
   "outputs": [
    {
     "name": "stdout",
     "output_type": "stream",
     "text": [
      "Reagan\n"
     ]
    }
   ],
   "source": [
    "_name = \"Reagan\"\n",
    "print(_name)"
   ]
  },
  {
   "cell_type": "code",
   "execution_count": 10,
   "metadata": {},
   "outputs": [
    {
     "data": {
      "text/plain": [
       "'\\nthis is my line in a multi-line comment, \\nthis is a bit easier to read when my comment is longer\\n'"
      ]
     },
     "execution_count": 10,
     "metadata": {},
     "output_type": "execute_result"
    }
   ],
   "source": [
    "#this is my code in a single line comment\n",
    "'''\n",
    "this is my line in a multi-line comment, \n",
    "this is a bit easier to read when my comment is longer\n",
    "'''"
   ]
  },
  {
   "cell_type": "code",
   "execution_count": 14,
   "metadata": {},
   "outputs": [
    {
     "name": "stdout",
     "output_type": "stream",
     "text": [
      "True\n",
      "1\n",
      "703\n"
     ]
    }
   ],
   "source": [
    "a = 'hello' #string\n",
    "number = \"70\"\n",
    "b = 3 #int\n",
    "c = 4.9 #double\n",
    "d = True #boolean\n",
    "print(d)\n",
    "print(int(d))\n",
    "print(number + str(b)) #concatenate"
   ]
  },
  {
   "cell_type": "code",
   "execution_count": 21,
   "metadata": {},
   "outputs": [
    {
     "name": "stdout",
     "output_type": "stream",
     "text": [
      "hello world\n",
      "Today\n"
     ]
    }
   ],
   "source": [
    "#string indexing\n",
    "a = \"hello\"\n",
    "b = \"world\"\n",
    "\n",
    "print(a + \" \" + b)\n",
    "\n",
    "sentence = \"Today is a great saturday afternoon.\"\n",
    "print(sentence[0:5]) #slicing takes everything from 0 (inclusive) to 5 (exclusive)"
   ]
  },
  {
   "cell_type": "code",
   "execution_count": 38,
   "metadata": {},
   "outputs": [
    {
     "name": "stdout",
     "output_type": "stream",
     "text": [
      "3.0\n",
      "27\n",
      "6\n",
      "27.0\n",
      "True True False\n",
      "False\n",
      "True\n",
      "\n",
      "\n"
     ]
    }
   ],
   "source": [
    "#Operators\n",
    "    #Arithmetic\n",
    "print(9 / 3)\n",
    "print(9 * 3) \n",
    "print(9 - 3)\n",
    "print(3*9.0)\n",
    "    #Conditional operators\n",
    "print(3 == 3, 3 > 2, 3 != 3)\n",
    "    #Logical operators\n",
    "print(9 == 2 and 3 > 2)\n",
    "print(3 == 3 and not 2 == 3)\n",
    "print(\"\\n\")\n"
   ]
  },
  {
   "cell_type": "code",
   "execution_count": 45,
   "metadata": {},
   "outputs": [
    {
     "name": "stdout",
     "output_type": "stream",
     "text": [
      "['some bananas', 1.2, 5, 'orange']\n",
      "[1.2, 5]\n",
      "orange\n"
     ]
    }
   ],
   "source": [
    "#lists\n",
    "\n",
    "fruits = [\"some bananas\", 1.2, 5, \"orange\"]\n",
    "print(fruits) #note how multiple data types can be stored in the list\n",
    "print(fruits[1:3])\n",
    "print(fruits[3])"
   ]
  },
  {
   "cell_type": "code",
   "execution_count": 48,
   "metadata": {},
   "outputs": [
    {
     "data": {
      "text/plain": [
       "['h', 'e', 'l', 'l', 'o']"
      ]
     },
     "execution_count": 48,
     "metadata": {},
     "output_type": "execute_result"
    }
   ],
   "source": [
    "string = ['h', 'e', 'l', 'l', 'o']\n",
    "string[0]\n",
    "string[0:5] #prints indices 1 through 4\n"
   ]
  },
  {
   "cell_type": "code",
   "execution_count": 54,
   "metadata": {},
   "outputs": [
    {
     "name": "stdout",
     "output_type": "stream",
     "text": [
      "some bananas\n",
      "['some bananas', 1.2, 5, 'orange']\n"
     ]
    }
   ],
   "source": [
    "#dictionaries \n",
    "\n",
    "animals_and_names = {\n",
    "    \"oranges\":5,\n",
    "    \"dog\":\"dodger\",\n",
    "    \"cat\":\"sally\",\n",
    "    \"fruits\":fruits\n",
    "}\n",
    "\n",
    "print(animals_and_names[\"fruits\"][0])\n",
    "#this result is called double-indexing\n",
    "\n",
    "print(animals_and_names[\"fruits\"])"
   ]
  },
  {
   "cell_type": "code",
   "execution_count": 58,
   "metadata": {},
   "outputs": [
    {
     "name": "stdout",
     "output_type": "stream",
     "text": [
      "equal\n"
     ]
    }
   ],
   "source": [
    "a = 33\n",
    "b = 33\n",
    "\n",
    "if (a < b):\n",
    "    print(a)\n",
    "elif (a > b):\n",
    "    print(b)\n",
    "else:\n",
    "    print(\"equal\")"
   ]
  },
  {
   "cell_type": "code",
   "execution_count": 63,
   "metadata": {},
   "outputs": [
    {
     "name": "stdout",
     "output_type": "stream",
     "text": [
      "4\n"
     ]
    }
   ],
   "source": [
    "def double_num(x):\n",
    "    return x*2\n",
    "\n",
    "print(double_num(2))"
   ]
  },
  {
   "cell_type": "code",
   "execution_count": 71,
   "metadata": {},
   "outputs": [
    {
     "name": "stdout",
     "output_type": "stream",
     "text": [
      "choose a number:679\n",
      "your number is odd\n"
     ]
    }
   ],
   "source": [
    "#checkpoint\n",
    "\n",
    "number = int(input(\"choose a number:\"))\n",
    "\n",
    "if (number % 2 == 0):\n",
    "    print(\"your number is even\")\n",
    "else:\n",
    "    print(\"your number is odd\")"
   ]
  },
  {
   "cell_type": "code",
   "execution_count": null,
   "metadata": {},
   "outputs": [],
   "source": [
    "#loops\n",
    "print(fruits)\n",
    "for i in fruits:\n",
    "    print(i)\n",
    "    \n",
    "i = 0\n",
    "while(i < len(fruits)):\n",
    "    print(fruits[i])\n",
    "    i = i + 1"
   ]
  },
  {
   "cell_type": "code",
   "execution_count": null,
   "metadata": {},
   "outputs": [],
   "source": []
  },
  {
   "cell_type": "code",
   "execution_count": null,
   "metadata": {},
   "outputs": [],
   "source": []
  }
 ],
 "metadata": {
  "kernelspec": {
   "display_name": "Python 3",
   "language": "python",
   "name": "python3"
  },
  "language_info": {
   "codemirror_mode": {
    "name": "ipython",
    "version": 3
   },
   "file_extension": ".py",
   "mimetype": "text/x-python",
   "name": "python",
   "nbconvert_exporter": "python",
   "pygments_lexer": "ipython3",
   "version": "3.7.4"
  }
 },
 "nbformat": 4,
 "nbformat_minor": 2
}
